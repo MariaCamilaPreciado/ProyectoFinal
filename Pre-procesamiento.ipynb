{
 "cells": [
  {
   "cell_type": "markdown",
   "metadata": {},
   "source": [
    "## Universidad Nacional de Colombia\n",
    "# Minería de Datos\n",
    "**Prof. Elizabeth León**\n",
    "\n",
    "**Preprocesamiento**\n",
    "\n",
    "---\n",
    "\n"
   ]
  },
  {
   "cell_type": "markdown",
   "metadata": {},
   "source": [
    " # 1. Carga de datos y modulos"
   ]
  },
  {
   "cell_type": "code",
   "execution_count": 1,
   "metadata": {},
   "outputs": [],
   "source": [
    "import pandas as pd\n",
    "import numpy as np\n",
    "import statistics\n",
    "import seaborn as sns\n",
    "import matplotlib.pyplot as plt"
   ]
  },
  {
   "cell_type": "code",
   "execution_count": 2,
   "metadata": {},
   "outputs": [],
   "source": [
    "pd.set_option('display.max_columns', None)\n",
    "pd.set_option('display.max_rows', None)"
   ]
  },
  {
   "cell_type": "code",
   "execution_count": 3,
   "metadata": {},
   "outputs": [],
   "source": [
    "df = pd.read_csv('../terpel_exploration/Ventas_cleaned.csv')"
   ]
  },
  {
   "cell_type": "code",
   "execution_count": 84,
   "metadata": {},
   "outputs": [
    {
     "name": "stdout",
     "output_type": "stream",
     "text": [
      "Número de filas duplicadas =  0 \n"
     ]
    }
   ],
   "source": [
    "dups  =  df . duplicated () \n",
    "print ( 'Número de filas duplicadas = % d '  %  ( dups . sum ())) "
   ]
  },
  {
   "cell_type": "code",
   "execution_count": 4,
   "metadata": {},
   "outputs": [],
   "source": [
    "from sklearn.preprocessing import StandardScaler"
   ]
  },
  {
   "cell_type": "code",
   "execution_count": 5,
   "metadata": {},
   "outputs": [],
   "source": [
    "from sklearn.decomposition import PCA"
   ]
  },
  {
   "cell_type": "code",
   "execution_count": 6,
   "metadata": {},
   "outputs": [],
   "source": [
    "df['F_ValorAPagar__c'] = df['F_ValorAPagar__c'].str.replace('$','')\n",
    "df['F_ValorAPagar__c'] = df['F_ValorAPagar__c'].str.replace('.','')\n",
    "df['F_ValorAPagar__c'] = df['F_ValorAPagar__c'].str.replace(',','.')\n",
    "df['F_ValorAPagar__c'] = df.F_ValorAPagar__c.astype(\"float\")"
   ]
  },
  {
   "cell_type": "code",
   "execution_count": 7,
   "metadata": {},
   "outputs": [],
   "source": [
    "df['F_ValorAPagar__GNV'] = df.TER_Venta_1_galon__c * df.Ter_CantidadTotal__c"
   ]
  },
  {
   "cell_type": "code",
   "execution_count": 8,
   "metadata": {},
   "outputs": [],
   "source": [
    "df = df.loc[df['F_TipoCombustible__c'].notnull() ].copy()"
   ]
  },
  {
   "cell_type": "code",
   "execution_count": 9,
   "metadata": {},
   "outputs": [],
   "source": [
    "df4 = np.array(df)"
   ]
  },
  {
   "cell_type": "code",
   "execution_count": 10,
   "metadata": {},
   "outputs": [],
   "source": [
    "for i in range(0, df4.shape[0]):\n",
    "    if np.isnan(df4[i,34]):\n",
    "        df4[i,34] = df4[i,50]\n",
    "    else:\n",
    "        df4[i,34] = df4[i,34]"
   ]
  },
  {
   "cell_type": "code",
   "execution_count": 11,
   "metadata": {},
   "outputs": [],
   "source": [
    "df4 = pd.DataFrame(df4, columns = df.columns)"
   ]
  },
  {
   "cell_type": "code",
   "execution_count": 29,
   "metadata": {},
   "outputs": [],
   "source": [
    "# load dataset into Pandas DataFrame\n",
    "dataset = df4[['F_ValorAPagar__c', 'F_Descuento__c','F_Impuesto__c','F_MontoTotal__c','Ter_Calificacion__c','TER_Suma_Cantidad_Item__c','F_TipoCombustible__c','Nombre_PDV__c']]"
   ]
  },
  {
   "cell_type": "code",
   "execution_count": 30,
   "metadata": {},
   "outputs": [],
   "source": [
    "features = ['F_ValorAPagar__c','F_Descuento__c','F_Impuesto__c','F_MontoTotal__c','Ter_Calificacion__c','TER_Suma_Cantidad_Item__c']\n",
    "dataset2 = dataset.loc[:, features].copy()"
   ]
  },
  {
   "cell_type": "code",
   "execution_count": 31,
   "metadata": {},
   "outputs": [],
   "source": [
    "dataset2['F_ValorAPagar__c'] = dataset2.F_ValorAPagar__c.astype(\"float\")\n",
    "dataset2[\"F_Impuesto__c\"] = dataset2.F_Impuesto__c.astype(\"float\")\n",
    "dataset2[\"F_Descuento__c\"] = dataset2.F_Descuento__c.astype(\"float\")"
   ]
  },
  {
   "cell_type": "code",
   "execution_count": 32,
   "metadata": {},
   "outputs": [],
   "source": [
    "dataset2[\"F_Impuesto__c\" ] = np.log(dataset2[\"F_Impuesto__c\" ]+0.01)\n",
    "dataset2[\"F_ValorAPagar__c\" ] = np.log(dataset2[\"F_ValorAPagar__c\" ]+0.01)\n",
    "dataset2[\"F_Descuento__c\" ] = np.log(dataset2[\"F_Descuento__c\" ]+0.01)"
   ]
  },
  {
   "cell_type": "code",
   "execution_count": 33,
   "metadata": {},
   "outputs": [],
   "source": [
    "from sklearn.preprocessing import StandardScaler\n",
    "# Separating out the features\n",
    "x = dataset2.loc[:, features].values\n",
    "# Separating out the target\n",
    "y = dataset.loc[:,['F_TipoCombustible__c']].values\n",
    "# Standardizing the features\n",
    "x = StandardScaler().fit_transform(x)"
   ]
  },
  {
   "cell_type": "code",
   "execution_count": 34,
   "metadata": {},
   "outputs": [],
   "source": [
    "from sklearn.decomposition import PCA\n",
    "pca = PCA(n_components=2)\n",
    "principalComponents = pca.fit_transform(x)\n",
    "principalDf = pd.DataFrame(data = principalComponents\n",
    "             , columns = ['principal component 1', 'principal component 2'])"
   ]
  },
  {
   "cell_type": "code",
   "execution_count": 35,
   "metadata": {},
   "outputs": [],
   "source": [
    "finalDf = pd.concat([principalDf, dataset[['F_TipoCombustible__c']]], axis = 1)"
   ]
  },
  {
   "cell_type": "code",
   "execution_count": 36,
   "metadata": {},
   "outputs": [
    {
     "data": {
      "image/png": "[encoded data removed]",
      "text/plain": [
       "<Figure size 576x576 with 1 Axes>"
      ]
     },
     "metadata": {
      "needs_background": "light"
     },
     "output_type": "display_data"
    }
   ],
   "source": [
    "fig = plt.figure(figsize = (8,8))\n",
    "plt.scatter(principalDf.iloc[:,0], principalDf.iloc[:,1], alpha=0.5)\n",
    "plt.title('PCA wine dataset')\n",
    "plt.xlabel('Principal Component 1')\n",
    "plt.ylabel('Principal Component 2')\n",
    "plt.show()"
   ]
  },
  {
   "cell_type": "code",
   "execution_count": 38,
   "metadata": {},
   "outputs": [
    {
     "data": {
      "image/png": "[encoded data removed]",
      "text/plain": [
       "<Figure size 576x576 with 1 Axes>"
      ]
     },
     "metadata": {
      "needs_background": "light"
     },
     "output_type": "display_data"
    }
   ],
   "source": [
    "fig = plt.figure(figsize = (8,8))\n",
    "ax = fig.add_subplot(1,1,1) \n",
    "ax.set_xlabel('Principal Component 1', fontsize = 15)\n",
    "ax.set_ylabel('Principal Component 2', fontsize = 15)\n",
    "ax.set_title('2 component PCA', fontsize = 20)\n",
    "targets = ['Corriente', 'Diesel', 'Extra', 'GNV']\n",
    "colors = ['r', 'g', 'b', 'y']\n",
    "for target, color in zip(targets,colors):\n",
    "    indicesToKeep = finalDf['F_TipoCombustible__c'] == target\n",
    "    ax.scatter(finalDf.loc[indicesToKeep, 'principal component 1']\n",
    "               , finalDf.loc[indicesToKeep, 'principal component 2']\n",
    "               , c = color\n",
    "               , s = 50)\n",
    "ax.legend(targets)\n",
    "ax.grid()"
   ]
  },
  {
   "cell_type": "code",
   "execution_count": 40,
   "metadata": {},
   "outputs": [],
   "source": [
    "def zscore_custom(x):\n",
    "    y = (x - np.mean(x)) / np.std(x)\n",
    "    return(x)"
   ]
  },
  {
   "cell_type": "code",
   "execution_count": 39,
   "metadata": {},
   "outputs": [],
   "source": [
    "standarized_dataset = pd.DataFrame(x, columns = features)"
   ]
  },
  {
   "cell_type": "code",
   "execution_count": 41,
   "metadata": {},
   "outputs": [
    {
     "data": {
      "text/plain": [
       "<matplotlib.axes._subplots.AxesSubplot at 0x7f9b8372f690>"
      ]
     },
     "execution_count": 41,
     "metadata": {},
     "output_type": "execute_result"
    },
    {
     "data": {
      "image/png": "[encoded data removed]",
      "text/plain": [
       "<Figure size 1800x216 with 1 Axes>"
      ]
     },
     "metadata": {
      "needs_background": "light"
     },
     "output_type": "display_data"
    }
   ],
   "source": [
    "%matplotlib inline\n",
    "standarized_dataset.boxplot(figsize=(25,3))"
   ]
  },
  {
   "cell_type": "code",
   "execution_count": 83,
   "metadata": {},
   "outputs": [
    {
     "data": {
      "text/html": [
       "<div>\n",
       "<style scoped>\n",
       "    .dataframe tbody tr th:only-of-type {\n",
       "        vertical-align: middle;\n",
       "    }\n",
       "\n",
       "    .dataframe tbody tr th {\n",
       "        vertical-align: top;\n",
       "    }\n",
       "\n",
       "    .dataframe thead th {\n",
       "        text-align: right;\n",
       "    }\n",
       "</style>\n",
       "<table border=\"1\" class=\"dataframe\">\n",
       "  <thead>\n",
       "    <tr style=\"text-align: right;\">\n",
       "      <th></th>\n",
       "      <th>F_ValorAPagar__c</th>\n",
       "      <th>F_Descuento__c</th>\n",
       "      <th>F_Impuesto__c</th>\n",
       "      <th>F_MontoTotal__c</th>\n",
       "      <th>Ter_Calificacion__c</th>\n",
       "      <th>TER_Suma_Cantidad_Item__c</th>\n",
       "      <th>F_ValorAPagar__c2</th>\n",
       "      <th>F_Descuento__c2</th>\n",
       "      <th>F_Impuesto__c2</th>\n",
       "      <th>F_MontoTotal__c2</th>\n",
       "      <th>Ter_Calificacion__c2</th>\n",
       "    </tr>\n",
       "  </thead>\n",
       "  <tbody>\n",
       "    <tr>\n",
       "      <th>count</th>\n",
       "      <td>493033.00</td>\n",
       "      <td>493033.00</td>\n",
       "      <td>493033.0</td>\n",
       "      <td>493033.00</td>\n",
       "      <td>493033.00</td>\n",
       "      <td>493033.00</td>\n",
       "      <td>493033.00</td>\n",
       "      <td>493033.0</td>\n",
       "      <td>493033.0</td>\n",
       "      <td>493033.00</td>\n",
       "      <td>493033.0</td>\n",
       "    </tr>\n",
       "    <tr>\n",
       "      <th>mean</th>\n",
       "      <td>-0.00</td>\n",
       "      <td>0.00</td>\n",
       "      <td>1.0</td>\n",
       "      <td>0.00</td>\n",
       "      <td>-0.00</td>\n",
       "      <td>-0.00</td>\n",
       "      <td>1.75</td>\n",
       "      <td>3.0</td>\n",
       "      <td>3.0</td>\n",
       "      <td>1.50</td>\n",
       "      <td>3.0</td>\n",
       "    </tr>\n",
       "    <tr>\n",
       "      <th>std</th>\n",
       "      <td>1.00</td>\n",
       "      <td>1.00</td>\n",
       "      <td>0.0</td>\n",
       "      <td>1.00</td>\n",
       "      <td>1.00</td>\n",
       "      <td>1.00</td>\n",
       "      <td>0.83</td>\n",
       "      <td>0.0</td>\n",
       "      <td>0.0</td>\n",
       "      <td>1.12</td>\n",
       "      <td>0.0</td>\n",
       "    </tr>\n",
       "    <tr>\n",
       "      <th>min</th>\n",
       "      <td>-1.29</td>\n",
       "      <td>-0.04</td>\n",
       "      <td>1.0</td>\n",
       "      <td>-0.47</td>\n",
       "      <td>-0.05</td>\n",
       "      <td>-0.59</td>\n",
       "      <td>1.00</td>\n",
       "      <td>3.0</td>\n",
       "      <td>3.0</td>\n",
       "      <td>0.00</td>\n",
       "      <td>3.0</td>\n",
       "    </tr>\n",
       "    <tr>\n",
       "      <th>25%</th>\n",
       "      <td>-1.29</td>\n",
       "      <td>-0.04</td>\n",
       "      <td>1.0</td>\n",
       "      <td>-0.39</td>\n",
       "      <td>-0.05</td>\n",
       "      <td>-0.34</td>\n",
       "      <td>1.00</td>\n",
       "      <td>3.0</td>\n",
       "      <td>3.0</td>\n",
       "      <td>1.00</td>\n",
       "      <td>3.0</td>\n",
       "    </tr>\n",
       "    <tr>\n",
       "      <th>50%</th>\n",
       "      <td>0.66</td>\n",
       "      <td>-0.04</td>\n",
       "      <td>1.0</td>\n",
       "      <td>-0.27</td>\n",
       "      <td>-0.05</td>\n",
       "      <td>-0.21</td>\n",
       "      <td>2.00</td>\n",
       "      <td>3.0</td>\n",
       "      <td>3.0</td>\n",
       "      <td>2.00</td>\n",
       "      <td>3.0</td>\n",
       "    </tr>\n",
       "    <tr>\n",
       "      <th>75%</th>\n",
       "      <td>0.80</td>\n",
       "      <td>-0.04</td>\n",
       "      <td>1.0</td>\n",
       "      <td>0.01</td>\n",
       "      <td>-0.05</td>\n",
       "      <td>-0.03</td>\n",
       "      <td>3.00</td>\n",
       "      <td>3.0</td>\n",
       "      <td>3.0</td>\n",
       "      <td>3.00</td>\n",
       "      <td>3.0</td>\n",
       "    </tr>\n",
       "    <tr>\n",
       "      <th>max</th>\n",
       "      <td>1.42</td>\n",
       "      <td>32.32</td>\n",
       "      <td>1.0</td>\n",
       "      <td>52.59</td>\n",
       "      <td>19.33</td>\n",
       "      <td>91.73</td>\n",
       "      <td>3.00</td>\n",
       "      <td>3.0</td>\n",
       "      <td>3.0</td>\n",
       "      <td>3.00</td>\n",
       "      <td>3.0</td>\n",
       "    </tr>\n",
       "  </tbody>\n",
       "</table>\n",
       "</div>"
      ],
      "text/plain": [
       "       F_ValorAPagar__c  F_Descuento__c  F_Impuesto__c  F_MontoTotal__c  \\\n",
       "count         493033.00       493033.00       493033.0        493033.00   \n",
       "mean              -0.00            0.00            1.0             0.00   \n",
       "std                1.00            1.00            0.0             1.00   \n",
       "min               -1.29           -0.04            1.0            -0.47   \n",
       "25%               -1.29           -0.04            1.0            -0.39   \n",
       "50%                0.66           -0.04            1.0            -0.27   \n",
       "75%                0.80           -0.04            1.0             0.01   \n",
       "max                1.42           32.32            1.0            52.59   \n",
       "\n",
       "       Ter_Calificacion__c  TER_Suma_Cantidad_Item__c  F_ValorAPagar__c2  \\\n",
       "count            493033.00                  493033.00          493033.00   \n",
       "mean                 -0.00                      -0.00               1.75   \n",
       "std                   1.00                       1.00               0.83   \n",
       "min                  -0.05                      -0.59               1.00   \n",
       "25%                  -0.05                      -0.34               1.00   \n",
       "50%                  -0.05                      -0.21               2.00   \n",
       "75%                  -0.05                      -0.03               3.00   \n",
       "max                  19.33                      91.73               3.00   \n",
       "\n",
       "       F_Descuento__c2  F_Impuesto__c2  F_MontoTotal__c2  Ter_Calificacion__c2  \n",
       "count         493033.0        493033.0         493033.00              493033.0  \n",
       "mean               3.0             3.0              1.50                   3.0  \n",
       "std                0.0             0.0              1.12                   0.0  \n",
       "min                3.0             3.0              0.00                   3.0  \n",
       "25%                3.0             3.0              1.00                   3.0  \n",
       "50%                3.0             3.0              2.00                   3.0  \n",
       "75%                3.0             3.0              3.00                   3.0  \n",
       "max                3.0             3.0              3.00                   3.0  "
      ]
     },
     "execution_count": 83,
     "metadata": {},
     "output_type": "execute_result"
    }
   ],
   "source": [
    "round(standarized_dataset.describe(),2)"
   ]
  },
  {
   "cell_type": "code",
   "execution_count": null,
   "metadata": {},
   "outputs": [],
   "source": [
    "print(\"Q2 quantile of arr : \", np.quantile(arr, .50))\n",
    "print(\"Q1 quantile of arr : \", np.quantile(arr, .25))\n",
    "print(\"Q3 quantile of arr : \", np.quantile(arr, .75)"
   ]
  },
  {
   "cell_type": "code",
   "execution_count": 50,
   "metadata": {},
   "outputs": [],
   "source": [
    "standarized_dataset[\"F_ValorAPagar__c2\"] = quanitle_categorization(standarized_dataset.F_ValorAPagar__c)\n",
    "standarized_dataset[\"F_Descuento__c2\"] = quanitle_categorization(standarized_dataset.F_Descuento__c)\n",
    "standarized_dataset[\"F_Impuesto__c2\"] = quanitle_categorization(standarized_dataset.F_Impuesto__c)\n",
    "standarized_dataset[\"F_MontoTotal__c2\"] = quanitle_categorization(standarized_dataset.F_MontoTotal__c)\n",
    "standarized_dataset[\"Ter_Calificacion__c2\"] = quanitle_categorization(standarized_dataset.Ter_Calificacion__c)"
   ]
  },
  {
   "cell_type": "code",
   "execution_count": 51,
   "metadata": {},
   "outputs": [],
   "source": [
    "standarized_dataset2 = pd.concat([standarized_dataset, df[[\"Segmento_EDS__c\", \"Regional_PDV__c\"]]]) "
   ]
  },
  {
   "cell_type": "code",
   "execution_count": 53,
   "metadata": {},
   "outputs": [],
   "source": [
    "standarized_dataset2 = standarized_dataset2.loc[:,['F_ValorAPagar__c2', 'F_Descuento__c2', 'F_Impuesto__c2',\n",
    "       'F_MontoTotal__c2', 'Ter_Calificacion__c2', 'Segmento_EDS__c',\n",
    "       'Regional_PDV__c']].copy()"
   ]
  },
  {
   "cell_type": "code",
   "execution_count": 47,
   "metadata": {},
   "outputs": [],
   "source": [
    "def quanitle_categorization(x):\n",
    "    q1 = np.quantile(x, .25)\n",
    "    q2 = np.quantile(x, .5)\n",
    "    q3 = np.quantile(x, .75)\n",
    "    y = np.zeros(len(x))\n",
    "    for i in range(0, len(x)):\n",
    "        if x[i] < q1:\n",
    "            y[i] = 0\n",
    "        if x[i] < q2 and x[i] >= q1:\n",
    "            y[i] = 1    \n",
    "        if x[i] < q3 and x[i] >= q2:\n",
    "            y[i] = 2\n",
    "        if x[i] >= q3:\n",
    "            y[i] = 3\n",
    "    return y"
   ]
  },
  {
   "cell_type": "code",
   "execution_count": 54,
   "metadata": {},
   "outputs": [],
   "source": [
    "def similarity_calc(matrix):\n",
    "    S = np.zeros( (matrix.shape[0],matrix.shape[0]) )\n",
    "    for i in range(0, matrix.shape[0]-1):\n",
    "        for j in range(i, matrix.shape[0]):\n",
    "            S[i,j] = np.mean( ( matrix[i,:] == matrix[j,:] ).astype(int) )\n",
    "    return S"
   ]
  },
  {
   "cell_type": "code",
   "execution_count": 55,
   "metadata": {},
   "outputs": [],
   "source": [
    "def entropy_comp(S):\n",
    "    suma = 0\n",
    "    for i in range(0, S.shape[0]-1):\n",
    "        for j in range(i, S.shape[0]):\n",
    "            if S[i,j] == 0 or S[i,j] == 1:\n",
    "                suma += 0\n",
    "            else:\n",
    "                suma += - (S[i,j] * np.log(S[i,j]) + (1- S[i,j]) * np.log(1-S[i,j]) )\n",
    "    return suma"
   ]
  },
  {
   "cell_type": "code",
   "execution_count": 56,
   "metadata": {},
   "outputs": [],
   "source": [
    "def comparisson_comp(matrix):\n",
    "    S0 = similarity_calc(matrix)\n",
    "    E0 = entropy_comp(S0)\n",
    "    E = [ ]\n",
    "    for i in range(0, matrix.shape[1]):\n",
    "        matrix2 = matrix.copy()\n",
    "        matrix2 = np.delete(matrix2, i,1)\n",
    "        S = similarity_calc(matrix2)\n",
    "        E = np.append(E,  entropy_comp(S)) \n",
    "    return E"
   ]
  },
  {
   "cell_type": "code",
   "execution_count": 57,
   "metadata": {},
   "outputs": [],
   "source": [
    "def iterative_comp(matrix):\n",
    "    ranking = []\n",
    "    compare = comparisson_comp(matrix)\n",
    "    index = np.where(compare == np.amin(compare))[0][0]\n",
    "    matrix2 = matrix2 = np.delete(matrix,index,1)\n",
    "    ranking = np.append(ranking, index+1)\n",
    "    while matrix2.shape[1]>=2:\n",
    "        compare = comparisson_comp(matrix2)\n",
    "        index = np.where(compare == np.amin(compare))[0][0]\n",
    "        matrix2 = matrix2 = np.delete(matrix2, index,1)\n",
    "        ranking = np.append(ranking, index+1)\n",
    "    return ranking"
   ]
  },
  {
   "cell_type": "code",
   "execution_count": 78,
   "metadata": {},
   "outputs": [],
   "source": [
    "# Randomly sample 0.0001 x100 of your dataframe\n",
    "df_percent = standarized_dataset2.sample(frac=0.0001)"
   ]
  },
  {
   "cell_type": "code",
   "execution_count": 79,
   "metadata": {},
   "outputs": [
    {
     "data": {
      "text/plain": [
       "array([6., 6., 4., 1., 1., 1.])"
      ]
     },
     "execution_count": 79,
     "metadata": {},
     "output_type": "execute_result"
    }
   ],
   "source": [
    "iterative_comp(np.array(df_percent))"
   ]
  },
  {
   "cell_type": "code",
   "execution_count": 80,
   "metadata": {},
   "outputs": [
    {
     "data": {
      "text/plain": [
       "(99, 7)"
      ]
     },
     "execution_count": 80,
     "metadata": {},
     "output_type": "execute_result"
    }
   ],
   "source": [
    "df_percent.shape"
   ]
  },
  {
   "cell_type": "code",
   "execution_count": 81,
   "metadata": {},
   "outputs": [
    {
     "data": {
      "text/plain": [
       "Index(['F_ValorAPagar__c2', 'F_Descuento__c2', 'F_Impuesto__c2',\n",
       "       'F_MontoTotal__c2', 'Ter_Calificacion__c2', 'Segmento_EDS__c',\n",
       "       'Regional_PDV__c'],\n",
       "      dtype='object')"
      ]
     },
     "execution_count": 81,
     "metadata": {},
     "output_type": "execute_result"
    }
   ],
   "source": [
    "standarized_dataset2.columns"
   ]
  },
  {
   "cell_type": "code",
   "execution_count": null,
   "metadata": {},
   "outputs": [],
   "source": [
    "Ranking Entropia:\n",
    "\n",
    "7. 'Segmento_EDS__c'\n",
    "6. 'Regional_PDV__c'\n",
    "5. 'F_MontoTotal__c2'\n",
    "4. 'F_ValorAPagar__c2'\n",
    "3. 'F_Descuento__c2'\n",
    "2. 'F_Impuesto__c2'\n",
    "1. 'Ter_Calificacion__c2'"
   ]
  }
 ],
 "metadata": {
  "kernelspec": {
   "display_name": "Python 3",
   "language": "python",
   "name": "python3"
  },
  "language_info": {
   "codemirror_mode": {
    "name": "ipython",
    "version": 3
   },
   "file_extension": ".py",
   "mimetype": "text/x-python",
   "name": "python",
   "nbconvert_exporter": "python",
   "pygments_lexer": "ipython3",
   "version": "3.7.6"
  }
 },
 "nbformat": 4,
 "nbformat_minor": 4
}
